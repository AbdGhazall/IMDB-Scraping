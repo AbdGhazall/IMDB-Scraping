{
  "nbformat": 4,
  "nbformat_minor": 0,
  "metadata": {
    "colab": {
      "provenance": []
    },
    "kernelspec": {
      "name": "python3",
      "display_name": "Python 3"
    },
    "language_info": {
      "name": "python"
    }
  },
  "cells": [
    {
      "cell_type": "code",
      "execution_count": 80,
      "metadata": {
        "id": "yrh5AIz1u3Ik"
      },
      "outputs": [],
      "source": [
        "import requests\n",
        "from bs4 import BeautifulSoup\n",
        "import lxml\n",
        "import pandas as pd\n",
        "import openpyxl"
      ]
    },
    {
      "cell_type": "code",
      "source": [
        "# 'headers' includes a user agent to avoid being blocked by the website\n",
        "headers = {'User-Agent': 'Mozilla/5.0'}\n",
        "\n",
        "# Access the website and return a response object\n",
        "response = requests.get('https://www.imdb.com/chart/top/', headers = headers)"
      ],
      "metadata": {
        "id": "_Knk90GExrY_"
      },
      "execution_count": 76,
      "outputs": []
    },
    {
      "cell_type": "code",
      "source": [
        "# Create a BeautifulSoup object to parse the HTML content of the page\n",
        "soup = BeautifulSoup(response.text, 'lxml')\n",
        "print(soup.prettify())"
      ],
      "metadata": {
        "id": "JokAVUzR9_4X"
      },
      "execution_count": null,
      "outputs": []
    },
    {
      "cell_type": "code",
      "source": [
        "# Initialize a dictionary to store the movie data\n",
        "movie_dict = {'Ranking':[], 'Name':[], 'Year':[], 'Duration':[], 'Point':[]}\n",
        "\n",
        "# Find all the list items that contain the movie information\n",
        "# 'cli-parent' is the class associated with the list items that contain the movies\n",
        "movie_list = soup.find_all('li', class_ = 'cli-parent')\n",
        "\n",
        "# Optional: You can print the length of 'movie_list' to check if all 250 movies are selected\n",
        "# print(len(movie_list))\n",
        "\n",
        "# Loop through each movie in the list and extract the required details\n",
        "for movie in movie_list:\n",
        "    # Extract and store the movie's ranking (the number before the movie's name)\n",
        "    movie_dict['Ranking'].append(movie.find('h3', class_='ipc-title__text').text.split('.')[0])\n",
        "\n",
        "    # Extract and store the movie's name (the text after the ranking)\n",
        "    movie_dict['Name'].append(movie.find('h3', class_='ipc-title__text').text.split('.')[1].strip())\n",
        "\n",
        "    # Extract and store the release year of the movie\n",
        "    movie_dict['Year'].append(movie.find_all('span', class_='cli-title-metadata-item')[0].text)\n",
        "\n",
        "    # Extract and store the duration of the movie\n",
        "    movie_dict['Duration'].append(movie.find_all('span', class_='cli-title-metadata-item')[1].text)\n",
        "\n",
        "    # Extract and store the IMDb rating of the movie\n",
        "    movie_dict['Point'].append(movie.find('span', class_='ipc-rating-star--rating').text)"
      ],
      "metadata": {
        "id": "Fk8UY9XsU5WN"
      },
      "execution_count": 78,
      "outputs": []
    },
    {
      "cell_type": "code",
      "source": [
        "# Convert the dictionary to a Pandas DataFrame for easier manipulation and exporting\n",
        "df = pd.DataFrame(movie_dict)\n",
        "\n",
        "# Export the DataFrame to an Excel file named 'Top250.xlsx'\n",
        "# 'index=False' is used to avoid saving the DataFrame's index as a column in the Excel file\n",
        "df.to_excel('Top250.xlsx', index=False)"
      ],
      "metadata": {
        "id": "Scqypj3Oe0lk"
      },
      "execution_count": 79,
      "outputs": []
    }
  ]
}